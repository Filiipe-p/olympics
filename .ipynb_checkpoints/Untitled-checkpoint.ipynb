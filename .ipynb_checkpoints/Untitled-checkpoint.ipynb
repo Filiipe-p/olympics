{
 "cells": [
  {
   "cell_type": "code",
   "execution_count": 1,
   "id": "e370173c",
   "metadata": {
    "ExecuteTime": {
     "end_time": "2022-11-20T16:28:19.221304Z",
     "start_time": "2022-11-20T16:28:12.025561Z"
    }
   },
   "outputs": [],
   "source": [
    "import pandas as pd\n"
   ]
  },
  {
   "cell_type": "code",
   "execution_count": 34,
   "id": "7986a3e7",
   "metadata": {
    "ExecuteTime": {
     "end_time": "2022-11-20T16:40:56.307180Z",
     "start_time": "2022-11-20T16:40:56.294318Z"
    }
   },
   "outputs": [],
   "source": [
    "pd.set_option('display.max_rows', 10)"
   ]
  },
  {
   "cell_type": "code",
   "execution_count": 2,
   "id": "07f3ee65",
   "metadata": {
    "ExecuteTime": {
     "end_time": "2022-11-20T16:28:19.345682Z",
     "start_time": "2022-11-20T16:28:19.227286Z"
    }
   },
   "outputs": [],
   "source": [
    "pop = pd.read_csv('pop.csv')"
   ]
  },
  {
   "cell_type": "code",
   "execution_count": 21,
   "id": "3855fb97",
   "metadata": {
    "ExecuteTime": {
     "end_time": "2022-11-19T18:39:46.329467Z",
     "start_time": "2022-11-19T18:39:46.309912Z"
    }
   },
   "outputs": [],
   "source": [
    "pop = pop[['Country (or dependency)','Population (2020)']]\n",
    "pop = pop.rename(columns ={'Country (or dependency)':'Country', 'Population (2020)': 'Population' } )"
   ]
  },
  {
   "cell_type": "code",
   "execution_count": 6,
   "id": "748d052b",
   "metadata": {
    "ExecuteTime": {
     "end_time": "2022-11-19T21:30:46.368252Z",
     "start_time": "2022-11-19T21:30:46.041572Z"
    }
   },
   "outputs": [
    {
     "name": "stderr",
     "output_type": "stream",
     "text": [
      "C:\\Users\\filip\\AppData\\Local\\Temp\\ipykernel_7536\\1119605495.py:1: SettingWithCopyWarning: \n",
      "A value is trying to be set on a copy of a slice from a DataFrame\n",
      "\n",
      "See the caveats in the documentation: https://pandas.pydata.org/pandas-docs/stable/user_guide/indexing.html#returning-a-view-versus-a-copy\n",
      "  pop['Country'][20] = 'UK'\n"
     ]
    }
   ],
   "source": [
    "pop['Country'][20] = 'UK'"
   ]
  },
  {
   "cell_type": "code",
   "execution_count": 3,
   "id": "d5d41042",
   "metadata": {
    "ExecuteTime": {
     "end_time": "2022-11-20T16:28:48.145724Z",
     "start_time": "2022-11-20T16:28:47.693502Z"
    }
   },
   "outputs": [],
   "source": [
    "df = pd.read_csv('athlete_events.csv')"
   ]
  },
  {
   "cell_type": "code",
   "execution_count": 9,
   "id": "b8eecb70",
   "metadata": {
    "ExecuteTime": {
     "end_time": "2022-11-20T16:30:53.896199Z",
     "start_time": "2022-11-20T16:30:53.878245Z"
    }
   },
   "outputs": [],
   "source": [
    "df_hun = df[df['NOC'] == 'HUN']"
   ]
  },
  {
   "cell_type": "code",
   "execution_count": 20,
   "id": "dd32eaa1",
   "metadata": {
    "ExecuteTime": {
     "end_time": "2022-11-20T16:33:54.758747Z",
     "start_time": "2022-11-20T16:33:54.749769Z"
    }
   },
   "outputs": [],
   "source": [
    "df_fencing = df_hun[df_hun['Sport'] == 'Fencing']"
   ]
  },
  {
   "cell_type": "code",
   "execution_count": 33,
   "id": "15862b63",
   "metadata": {
    "ExecuteTime": {
     "end_time": "2022-11-20T16:40:23.013368Z",
     "start_time": "2022-11-20T16:40:22.968883Z"
    }
   },
   "outputs": [
    {
     "data": {
      "text/plain": [
       "ID        236\n",
       "Name      236\n",
       "Sex       236\n",
       "Age       236\n",
       "Height    158\n",
       "Weight    158\n",
       "Team      236\n",
       "NOC       236\n",
       "Games     236\n",
       "Year      236\n",
       "Season    236\n",
       "City      236\n",
       "Sport     236\n",
       "Event     236\n",
       "Medal     236\n",
       "dtype: int64"
      ]
     },
     "execution_count": 33,
     "metadata": {},
     "output_type": "execute_result"
    }
   ],
   "source": [
    "df_fencing[df_fencing['Medal'].notna()].count()"
   ]
  }
 ],
 "metadata": {
  "kernelspec": {
   "display_name": "Python 3 (ipykernel)",
   "language": "python",
   "name": "python3"
  },
  "language_info": {
   "codemirror_mode": {
    "name": "ipython",
    "version": 3
   },
   "file_extension": ".py",
   "mimetype": "text/x-python",
   "name": "python",
   "nbconvert_exporter": "python",
   "pygments_lexer": "ipython3",
   "version": "3.9.12"
  },
  "varInspector": {
   "cols": {
    "lenName": 16,
    "lenType": 16,
    "lenVar": 40
   },
   "kernels_config": {
    "python": {
     "delete_cmd_postfix": "",
     "delete_cmd_prefix": "del ",
     "library": "var_list.py",
     "varRefreshCmd": "print(var_dic_list())"
    },
    "r": {
     "delete_cmd_postfix": ") ",
     "delete_cmd_prefix": "rm(",
     "library": "var_list.r",
     "varRefreshCmd": "cat(var_dic_list()) "
    }
   },
   "types_to_exclude": [
    "module",
    "function",
    "builtin_function_or_method",
    "instance",
    "_Feature"
   ],
   "window_display": false
  }
 },
 "nbformat": 4,
 "nbformat_minor": 5
}
